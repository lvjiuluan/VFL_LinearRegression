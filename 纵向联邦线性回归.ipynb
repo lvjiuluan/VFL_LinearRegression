{
 "cells": [
  {
   "cell_type": "markdown",
   "id": "7f816fd8",
   "metadata": {},
   "source": [
    "# 导入工具包"
   ]
  },
  {
   "cell_type": "code",
   "execution_count": 1,
   "id": "0f67b118",
   "metadata": {},
   "outputs": [],
   "source": [
    "from sklearn.datasets import load_diabetes\n",
    "from sklearn.model_selection import train_test_split\n",
    "from sklearn.linear_model import Ridge\n",
    "import numpy as np\n",
    "from sklearn.metrics import r2_score\n",
    "from VFL_LinearRegression import *\n",
    "from sklearn.metrics import mean_squared_error\n",
    "from phe import paillier\n",
    "%load_ext autoreload\n",
    "%autoreload 2"
   ]
  },
  {
   "cell_type": "markdown",
   "id": "5b77c987",
   "metadata": {},
   "source": [
    "# 使用普通线性回归"
   ]
  },
  {
   "cell_type": "markdown",
   "id": "f1b700ac",
   "metadata": {},
   "source": [
    "## 准备数据 \n",
    "糖尿病数据集"
   ]
  },
  {
   "cell_type": "code",
   "execution_count": 2,
   "id": "7a89196a",
   "metadata": {
    "scrolled": true
   },
   "outputs": [
    {
     "name": "stdout",
     "output_type": "stream",
     "text": [
      "(309, 11)\n",
      "(133, 11)\n",
      "(309,)\n",
      "(133,)\n"
     ]
    }
   ],
   "source": [
    "dataset = load_diabetes()\n",
    "X,y = dataset.data,dataset.target\n",
    "X_train, X_test, y_train, y_test  = train_test_split(X,y,test_size=0.3)\n",
    "X_train = np.column_stack((X_train,np.ones(len(X_train))))\n",
    "X_test = np.column_stack((X_test,np.ones(len(X_test))))\n",
    "# 打印数据形状\n",
    "for temp in [X_train, X_test, y_train, y_test]:\n",
    "    print(temp.shape)"
   ]
  },
  {
   "cell_type": "code",
   "execution_count": 3,
   "id": "8640ae9f",
   "metadata": {},
   "outputs": [],
   "source": [
    "config = {\n",
    "    'lambda':0.4, #正则项系数\n",
    "    'lr':1e-2,    # 学习率\n",
    "    'n_iters':10, # 训练轮数\n",
    "}"
   ]
  },
  {
   "cell_type": "code",
   "execution_count": null,
   "id": "6dcb6ca5",
   "metadata": {},
   "outputs": [],
   "source": [
    "weights = np.zeros(X_train.shape[1])\n",
    "loss_history = []\n",
    "for i in range(config['n_iters']):\n",
    "    L = 0.5 * np.sum(np.square(X_train.dot(weights) - y_train)) + 0.5 * config['lambda'] * np.sum(np.square(weights))\n",
    "    dL_w = X_train.T.dot(X_train.dot(weights) - y_train) + config['lambda'] * weights\n",
    "    weights = weights - config['lr'] * dL_w / len(X_train)\n",
    "    loss_history.append(L)\n",
    "    print('*'*8,L,'*'*8)\n",
    "    print('weights:{}'.format(weights))"
   ]
  },
  {
   "cell_type": "markdown",
   "id": "7ff3dee1",
   "metadata": {},
   "source": [
    "# 纵向联邦线性回归"
   ]
  },
  {
   "cell_type": "markdown",
   "id": "219cc6cd",
   "metadata": {},
   "source": [
    "## 准备数据集  \n",
    "使用糖尿病数据集 \n",
    "垂直划分  \n",
    "B拥有标签"
   ]
  },
  {
   "cell_type": "code",
   "execution_count": 7,
   "id": "383cf47a",
   "metadata": {},
   "outputs": [
    {
     "name": "stdout",
     "output_type": "stream",
     "text": [
      "XA_train (309, 6)\n",
      "XB_train (309, 5)\n",
      "XA_test (133, 6)\n",
      "XB_test (133, 5)\n"
     ]
    }
   ],
   "source": [
    "idx_A = list(range(6))\n",
    "idx_B = list(range(6,11))\n",
    "XA_train,XB_train = X_train[:,idx_A], X_train[:,idx_B]\n",
    "XA_test,XB_test = X_test[:,idx_A], X_test[:,idx_B]\n",
    "# 打印形状\n",
    "for name,temp in zip(['XA_train','XB_train','XA_test','XB_test'],[XA_train,XB_train,XA_test,XB_test]):\n",
    "    print(name,temp.shape)"
   ]
  },
  {
   "cell_type": "markdown",
   "id": "5a25186d",
   "metadata": {},
   "source": [
    "# 训练过程"
   ]
  },
  {
   "cell_type": "markdown",
   "id": "14453b1a",
   "metadata": {},
   "source": [
    "配置config"
   ]
  },
  {
   "cell_type": "code",
   "execution_count": 52,
   "id": "d316b8d3",
   "metadata": {},
   "outputs": [],
   "source": [
    "config = {\n",
    "    'lambda':0.4, #正则项系数\n",
    "    'lr':1e-2,    # 学习率\n",
    "    'n_iters':10, # 训练轮数\n",
    "}"
   ]
  },
  {
   "cell_type": "markdown",
   "id": "21664e64",
   "metadata": {},
   "source": [
    "初始化客户端对象"
   ]
  },
  {
   "cell_type": "code",
   "execution_count": 8,
   "id": "df48929c",
   "metadata": {},
   "outputs": [],
   "source": [
    "clientA = ClientA(XA_train,config)\n",
    "clientB = ClientB(XB_train,y_train,config)\n",
    "clientC = ClientC(config)"
   ]
  },
  {
   "cell_type": "markdown",
   "id": "951884c0",
   "metadata": {},
   "source": [
    "建立连接"
   ]
  },
  {
   "cell_type": "code",
   "execution_count": 9,
   "id": "2e6dd9ab",
   "metadata": {},
   "outputs": [],
   "source": [
    "for client1 in [clientA,clientB,clientC]:\n",
    "    for name,client2 in zip(['A','B','C'],[clientA,clientB,clientC]):\n",
    "        if client1 is not client2:\n",
    "            client1.other_clinet[name] = client2"
   ]
  },
  {
   "cell_type": "code",
   "execution_count": 10,
   "id": "5dbd0512",
   "metadata": {
    "scrolled": true
   },
   "outputs": [
    {
     "name": "stdout",
     "output_type": "stream",
     "text": [
      "{'B': <VFL_LinearRegression.ClientB object at 0x7fd129c08430>, 'C': <VFL_LinearRegression.ClientC object at 0x7fd129c12a90>}\n",
      "{'A': <VFL_LinearRegression.ClientA object at 0x7fd129c12d30>, 'C': <VFL_LinearRegression.ClientC object at 0x7fd129c12a90>}\n",
      "{'A': <VFL_LinearRegression.ClientA object at 0x7fd129c12d30>, 'B': <VFL_LinearRegression.ClientB object at 0x7fd129c08430>}\n"
     ]
    }
   ],
   "source": [
    "# 打印连接\n",
    "for client1 in [clientA,clientB,clientC]:\n",
    "    print(client1.other_clinet)"
   ]
  },
  {
   "cell_type": "markdown",
   "id": "2b284d94",
   "metadata": {},
   "source": [
    "## 训练流程实现\n",
    "一    初始化A的参数weights，初始化B的参数weights，C创建公钥和私钥，并将公钥发送给A，B\n",
    "\n",
    "二    1、 A方计算[[u_a]] , [[L_a]]发送给B方\n",
    "\n",
    "​        2、B方计算[[d]]发送给A, 计算[[L]]发给C\n",
    "\n",
    "三    1、A方计算[[dL_a]]，将[[masked_dL_a]] 发送给C\n",
    "\n",
    "​        2、B方计算[[dL_b]],将[[maksed_dL_b]]发送给C\n",
    "\n",
    "​        3、解密[[L]]，[[masked_dL_a]]解密发送给A，[[maksed_dL_b]]发送给B"
   ]
  },
  {
   "cell_type": "code",
   "execution_count": 11,
   "id": "c88261de",
   "metadata": {},
   "outputs": [
    {
     "name": "stdout",
     "output_type": "stream",
     "text": [
      "******** 4482934.5 ********\n",
      "A weights : [0.00885201 0.00596332 0.0180488  0.01786043 0.00522641 0.00451066]\n",
      "B weights : [-0.01540872  0.01612476  0.01961885  0.0118286   1.53116505]\n",
      "******** 4410796.718796585 ********\n",
      "A weights : [0.01769672 0.01189607 0.03610017 0.03570789 0.01045204 0.00902136]\n",
      "B weights : [-0.03079945  0.03222942  0.03920877  0.02366211  3.04699773]\n",
      "******** 4340095.382033676 ********\n",
      "A weights : [0.0265342  0.01779855 0.05415405 0.05354249 0.01567689 0.01353208]\n",
      "B weights : [-0.04617234  0.04831417  0.05877004  0.03550044  4.54765157]\n",
      "******** 4270801.867530334 ********\n",
      "A weights : [0.03536451 0.02367106 0.07221042 0.07136434 0.02090095 0.01804282]\n",
      "B weights : [-0.06152756  0.0643792   0.07830294  0.04734355  6.03327854]\n",
      "******** 4202888.123426587 ********\n",
      "A weights : [0.04418772 0.02951388 0.09026923 0.08917357 0.02612422 0.02255355]\n",
      "B weights : [-0.07686529  0.08042468  0.09780773  0.05919137  7.50402913]\n",
      "******** 4136326.656819311 ********\n",
      "A weights : [0.05300388 0.03532731 0.10833045 0.10697028 0.03134671 0.02706428]\n",
      "B weights : [-0.09218567  0.0964508   0.11728468  0.07104384  8.96005228]\n",
      "******** 4071090.5226245355 ********\n",
      "A weights : [0.06181305 0.04111163 0.12639403 0.12475458 0.03656841 0.03157499]\n",
      "B weights : [-0.10748888  0.11245773  0.13673405  0.0829009  10.40149546]\n",
      "******** 4007153.312661696 ********\n",
      "A weights : [0.0706153  0.04686713 0.14445994 0.1425266  0.04178931 0.03608568]\n",
      "B weights : [-0.12277507  0.12844565  0.1561561   0.0947625  11.82850467]\n",
      "******** 3944489.1449553813 ********\n",
      "A weights : [0.07941069 0.05259409 0.16252815 0.16028642 0.04700942 0.04059632]\n",
      "B weights : [-0.1380444   0.14441473  0.1755511   0.10662858 13.24122443]\n",
      "******** 3883072.653250245 ********\n",
      "A weights : [0.08819928 0.05829279 0.18059861 0.17803418 0.05222873 0.04510692]\n",
      "B weights : [-0.15329703  0.16036515  0.1949193   0.11849908 14.63979781]\n"
     ]
    }
   ],
   "source": [
    "for i in range(config['n_iters']):\n",
    "    # 1.C创建钥匙对，分发公钥给A和B\n",
    "    clientC.task_1('A','B')\n",
    "    # 2.1 A方计算[[u_a]] , [[L_a]]发送给B方\n",
    "    clientA.task_1('B')\n",
    "    # 2.2 B方计算[[d]]发送给A, 计算[[L]]发给C\n",
    "    clientB.task_1('A','C')\n",
    "    # 3.1 A方计算[[dL_a]]，将[[masked_dL_a]] 发送给C\n",
    "    clientA.task_2('C')\n",
    "    # 3.2 B方计算[[dL_b]],将[[maksed_dL_b]]发送给C\n",
    "    clientB.task_2('C')\n",
    "    # 3.3 解密[[L]]，[[masked_dL_a]]解密发送给A，[[maksed_dL_b]]发送给B\n",
    "    clientC.task_2('A','B')\n",
    "    # 4.1 A、B方更新模型\n",
    "    clientA.task_3()\n",
    "    clientB.task_3()"
   ]
  },
  {
   "cell_type": "code",
   "execution_count": 21,
   "id": "f32ea95c",
   "metadata": {},
   "outputs": [
    {
     "data": {
      "text/plain": [
       "array([ 0.00000000e+00, -9.31322575e-10, -9.31322575e-10, -9.31322575e-10,\n",
       "        0.00000000e+00, -9.31322575e-10,  0.00000000e+00,  0.00000000e+00,\n",
       "        0.00000000e+00,  4.65661287e-10])"
      ]
     },
     "execution_count": 21,
     "metadata": {},
     "output_type": "execute_result"
    }
   ],
   "source": [
    "np.array(loss_history) - np.array(clientC.loss_history)"
   ]
  },
  {
   "cell_type": "markdown",
   "id": "13ebe581",
   "metadata": {},
   "source": [
    "## 预测"
   ]
  },
  {
   "cell_type": "code",
   "execution_count": 22,
   "id": "89c3fed3",
   "metadata": {},
   "outputs": [],
   "source": [
    "y_pred = XA_test.dot(clientA.weights) + XB_test.dot(clientB.weights)"
   ]
  },
  {
   "cell_type": "code",
   "execution_count": 23,
   "id": "f13b4f45",
   "metadata": {},
   "outputs": [
    {
     "data": {
      "text/plain": [
       "25033.750801867864"
      ]
     },
     "execution_count": 23,
     "metadata": {},
     "output_type": "execute_result"
    }
   ],
   "source": [
    "mean_squared_error(y_test,y_pred)"
   ]
  },
  {
   "cell_type": "code",
   "execution_count": 40,
   "id": "d9b85bed",
   "metadata": {
    "scrolled": true
   },
   "outputs": [
    {
     "data": {
      "text/plain": [
       "-4.210138322736245"
      ]
     },
     "execution_count": 40,
     "metadata": {},
     "output_type": "execute_result"
    }
   ],
   "source": [
    "r2_score(y_test,y_pred)"
   ]
  }
 ],
 "metadata": {
  "kernelspec": {
   "display_name": "Python 3 (ipykernel)",
   "language": "python",
   "name": "python3"
  },
  "language_info": {
   "codemirror_mode": {
    "name": "ipython",
    "version": 3
   },
   "file_extension": ".py",
   "mimetype": "text/x-python",
   "name": "python",
   "nbconvert_exporter": "python",
   "pygments_lexer": "ipython3",
   "version": "3.9.12"
  }
 },
 "nbformat": 4,
 "nbformat_minor": 5
}
